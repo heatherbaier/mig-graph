{
 "cells": [
  {
   "cell_type": "code",
   "execution_count": 15,
   "id": "895db2dd",
   "metadata": {},
   "outputs": [],
   "source": [
    "from datetime import date, timedelta\n",
    "from joblib import Parallel, delayed\n",
    "from functools import partial\n",
    "import geopandas as gpd\n",
    "import multiprocessing\n",
    "import pandas as pd\n",
    "import numpy as np\n",
    "import argparse\n",
    "import calendar\n",
    "import datetime\n",
    "import requests\n",
    "import shapely\n",
    "import pyproj\n",
    "import shutil\n",
    "import ee\n",
    "import os\n",
    "\n",
    "from helpers import *"
   ]
  },
  {
   "cell_type": "code",
   "execution_count": 30,
   "id": "5d8de6e8",
   "metadata": {},
   "outputs": [],
   "source": [
    "year1 = \"2015\"\n",
    "month1 = \"8\"\n",
    "iso = \"MEX\"\n",
    "ic = \"LANDSAT/LC08/C01/T1_TOA\""
   ]
  },
  {
   "cell_type": "code",
   "execution_count": 31,
   "id": "b91928c7",
   "metadata": {},
   "outputs": [],
   "source": [
    "ee.Initialize()\n",
    "\n",
    "# Get the start and end dates of each month in the year to filter the imagery\n",
    "dates = GetDays(year1, month1)"
   ]
  },
  {
   "cell_type": "code",
   "execution_count": 32,
   "id": "a43a289f",
   "metadata": {},
   "outputs": [
    {
     "data": {
      "text/plain": [
       "<AxesSubplot:>"
      ]
     },
     "execution_count": 32,
     "metadata": {},
     "output_type": "execute_result"
    },
    {
     "data": {
      "image/png": "[encoded data removed]",
      "text/plain": [
       "<Figure size 432x288 with 1 Axes>"
      ]
     },
     "metadata": {
      "needs_background": "light"
     },
     "output_type": "display_data"
    }
   ],
   "source": [
    "shp = gpd.read_file(\"./grid/rec25000_4326.shp\")\n",
    "shp[1000:1010].plot()"
   ]
  },
  {
   "cell_type": "code",
   "execution_count": 39,
   "id": "dc7e0a55",
   "metadata": {},
   "outputs": [
    {
     "data": {
      "text/html": [
       "<div>\n",
       "<style scoped>\n",
       "    .dataframe tbody tr th:only-of-type {\n",
       "        vertical-align: middle;\n",
       "    }\n",
       "\n",
       "    .dataframe tbody tr th {\n",
       "        vertical-align: top;\n",
       "    }\n",
       "\n",
       "    .dataframe thead th {\n",
       "        text-align: right;\n",
       "    }\n",
       "</style>\n",
       "<table border=\"1\" class=\"dataframe\">\n",
       "  <thead>\n",
       "    <tr style=\"text-align: right;\">\n",
       "      <th></th>\n",
       "      <th>left</th>\n",
       "      <th>bottom</th>\n",
       "      <th>right</th>\n",
       "      <th>top</th>\n",
       "      <th>shapeID</th>\n",
       "      <th>geometry</th>\n",
       "      <th>TileID</th>\n",
       "    </tr>\n",
       "  </thead>\n",
       "  <tbody>\n",
       "    <tr>\n",
       "      <th>4898</th>\n",
       "      <td>1325000.0</td>\n",
       "      <td>1675000.0</td>\n",
       "      <td>1350000.0</td>\n",
       "      <td>1700000.0</td>\n",
       "      <td>4898</td>\n",
       "      <td>POLYGON ((-103.34528 15.02106, -103.33718 15.2...</td>\n",
       "      <td>4898</td>\n",
       "    </tr>\n",
       "    <tr>\n",
       "      <th>4899</th>\n",
       "      <td>1325000.0</td>\n",
       "      <td>1700000.0</td>\n",
       "      <td>1350000.0</td>\n",
       "      <td>1725000.0</td>\n",
       "      <td>4899</td>\n",
       "      <td>POLYGON ((-103.33718 15.24506, -103.32895 15.4...</td>\n",
       "      <td>4899</td>\n",
       "    </tr>\n",
       "    <tr>\n",
       "      <th>4900</th>\n",
       "      <td>1325000.0</td>\n",
       "      <td>1725000.0</td>\n",
       "      <td>1350000.0</td>\n",
       "      <td>1750000.0</td>\n",
       "      <td>4900</td>\n",
       "      <td>POLYGON ((-103.32895 15.46905, -103.32058 15.6...</td>\n",
       "      <td>4900</td>\n",
       "    </tr>\n",
       "    <tr>\n",
       "      <th>4901</th>\n",
       "      <td>1325000.0</td>\n",
       "      <td>1750000.0</td>\n",
       "      <td>1350000.0</td>\n",
       "      <td>1775000.0</td>\n",
       "      <td>4901</td>\n",
       "      <td>POLYGON ((-103.32058 15.69303, -103.31208 15.9...</td>\n",
       "      <td>4901</td>\n",
       "    </tr>\n",
       "    <tr>\n",
       "      <th>4902</th>\n",
       "      <td>1325000.0</td>\n",
       "      <td>1775000.0</td>\n",
       "      <td>1350000.0</td>\n",
       "      <td>1800000.0</td>\n",
       "      <td>4902</td>\n",
       "      <td>POLYGON ((-103.31208 15.91700, -103.30344 16.1...</td>\n",
       "      <td>4902</td>\n",
       "    </tr>\n",
       "    <tr>\n",
       "      <th>...</th>\n",
       "      <td>...</td>\n",
       "      <td>...</td>\n",
       "      <td>...</td>\n",
       "      <td>...</td>\n",
       "      <td>...</td>\n",
       "      <td>...</td>\n",
       "      <td>...</td>\n",
       "    </tr>\n",
       "    <tr>\n",
       "      <th>4972</th>\n",
       "      <td>1325000.0</td>\n",
       "      <td>3525000.0</td>\n",
       "      <td>1350000.0</td>\n",
       "      <td>3550000.0</td>\n",
       "      <td>4972</td>\n",
       "      <td>POLYGON ((-102.32166 31.56426, -102.30073 31.7...</td>\n",
       "      <td>4972</td>\n",
       "    </tr>\n",
       "    <tr>\n",
       "      <th>4973</th>\n",
       "      <td>1325000.0</td>\n",
       "      <td>3550000.0</td>\n",
       "      <td>1350000.0</td>\n",
       "      <td>3575000.0</td>\n",
       "      <td>4973</td>\n",
       "      <td>POLYGON ((-102.30073 31.78722, -102.27958 32.0...</td>\n",
       "      <td>4973</td>\n",
       "    </tr>\n",
       "    <tr>\n",
       "      <th>4974</th>\n",
       "      <td>1325000.0</td>\n",
       "      <td>3575000.0</td>\n",
       "      <td>1350000.0</td>\n",
       "      <td>3600000.0</td>\n",
       "      <td>4974</td>\n",
       "      <td>POLYGON ((-102.27958 32.01016, -102.25818 32.2...</td>\n",
       "      <td>4974</td>\n",
       "    </tr>\n",
       "    <tr>\n",
       "      <th>4975</th>\n",
       "      <td>1325000.0</td>\n",
       "      <td>3600000.0</td>\n",
       "      <td>1350000.0</td>\n",
       "      <td>3625000.0</td>\n",
       "      <td>4975</td>\n",
       "      <td>POLYGON ((-102.25818 32.23308, -102.23655 32.4...</td>\n",
       "      <td>4975</td>\n",
       "    </tr>\n",
       "    <tr>\n",
       "      <th>4976</th>\n",
       "      <td>1325000.0</td>\n",
       "      <td>3625000.0</td>\n",
       "      <td>1350000.0</td>\n",
       "      <td>3650000.0</td>\n",
       "      <td>4976</td>\n",
       "      <td>POLYGON ((-102.23655 32.45598, -102.21468 32.6...</td>\n",
       "      <td>4976</td>\n",
       "    </tr>\n",
       "  </tbody>\n",
       "</table>\n",
       "<p>79 rows × 7 columns</p>\n",
       "</div>"
      ],
      "text/plain": [
       "           left     bottom      right        top  shapeID  \\\n",
       "4898  1325000.0  1675000.0  1350000.0  1700000.0     4898   \n",
       "4899  1325000.0  1700000.0  1350000.0  1725000.0     4899   \n",
       "4900  1325000.0  1725000.0  1350000.0  1750000.0     4900   \n",
       "4901  1325000.0  1750000.0  1350000.0  1775000.0     4901   \n",
       "4902  1325000.0  1775000.0  1350000.0  1800000.0     4902   \n",
       "...         ...        ...        ...        ...      ...   \n",
       "4972  1325000.0  3525000.0  1350000.0  3550000.0     4972   \n",
       "4973  1325000.0  3550000.0  1350000.0  3575000.0     4973   \n",
       "4974  1325000.0  3575000.0  1350000.0  3600000.0     4974   \n",
       "4975  1325000.0  3600000.0  1350000.0  3625000.0     4975   \n",
       "4976  1325000.0  3625000.0  1350000.0  3650000.0     4976   \n",
       "\n",
       "                                               geometry  TileID  \n",
       "4898  POLYGON ((-103.34528 15.02106, -103.33718 15.2...    4898  \n",
       "4899  POLYGON ((-103.33718 15.24506, -103.32895 15.4...    4899  \n",
       "4900  POLYGON ((-103.32895 15.46905, -103.32058 15.6...    4900  \n",
       "4901  POLYGON ((-103.32058 15.69303, -103.31208 15.9...    4901  \n",
       "4902  POLYGON ((-103.31208 15.91700, -103.30344 16.1...    4902  \n",
       "...                                                 ...     ...  \n",
       "4972  POLYGON ((-102.32166 31.56426, -102.30073 31.7...    4972  \n",
       "4973  POLYGON ((-102.30073 31.78722, -102.27958 32.0...    4973  \n",
       "4974  POLYGON ((-102.27958 32.01016, -102.25818 32.2...    4974  \n",
       "4975  POLYGON ((-102.25818 32.23308, -102.23655 32.4...    4975  \n",
       "4976  POLYGON ((-102.23655 32.45598, -102.21468 32.6...    4976  \n",
       "\n",
       "[79 rows x 7 columns]"
      ]
     },
     "execution_count": 39,
     "metadata": {},
     "output_type": "execute_result"
    }
   ],
   "source": [
    "shp[shp[\"left\"] == 1325000]#2675000, 1325000 2700000, 1350000 2700000, 1350000 2675000, 1325000 2675000)))\t1325000\t2675000\t1350000\t2700000"
   ]
  },
  {
   "cell_type": "code",
   "execution_count": 33,
   "id": "d0088352",
   "metadata": {},
   "outputs": [
    {
     "data": {
      "text/plain": [
       "(10507, 6)"
      ]
     },
     "execution_count": 33,
     "metadata": {},
     "output_type": "execute_result"
    }
   ],
   "source": [
    "shp.shape"
   ]
  },
  {
   "cell_type": "code",
   "execution_count": 34,
   "id": "7967c3b9",
   "metadata": {},
   "outputs": [],
   "source": [
    "shp[\"TileID\"] = [i for i in range(0, len(shp))]"
   ]
  },
  {
   "cell_type": "code",
   "execution_count": 35,
   "id": "b3498e32",
   "metadata": {},
   "outputs": [],
   "source": [
    "# shp.to_file(\"./data/tiles/tiles.shp\")"
   ]
  },
  {
   "cell_type": "code",
   "execution_count": 36,
   "id": "ad1ad0e7",
   "metadata": {},
   "outputs": [
    {
     "data": {
      "text/html": [
       "<div>\n",
       "<style scoped>\n",
       "    .dataframe tbody tr th:only-of-type {\n",
       "        vertical-align: middle;\n",
       "    }\n",
       "\n",
       "    .dataframe tbody tr th {\n",
       "        vertical-align: top;\n",
       "    }\n",
       "\n",
       "    .dataframe thead th {\n",
       "        text-align: right;\n",
       "    }\n",
       "</style>\n",
       "<table border=\"1\" class=\"dataframe\">\n",
       "  <thead>\n",
       "    <tr style=\"text-align: right;\">\n",
       "      <th></th>\n",
       "      <th>left</th>\n",
       "      <th>bottom</th>\n",
       "      <th>right</th>\n",
       "      <th>top</th>\n",
       "      <th>shapeID</th>\n",
       "      <th>geometry</th>\n",
       "      <th>TileID</th>\n",
       "    </tr>\n",
       "  </thead>\n",
       "  <tbody>\n",
       "    <tr>\n",
       "      <th>0</th>\n",
       "      <td>-225000.0</td>\n",
       "      <td>1675000.0</td>\n",
       "      <td>-200000.0</td>\n",
       "      <td>1700000.0</td>\n",
       "      <td>0</td>\n",
       "      <td>POLYGON ((-117.73178 15.05043, -117.73892 15.2...</td>\n",
       "      <td>0</td>\n",
       "    </tr>\n",
       "    <tr>\n",
       "      <th>1</th>\n",
       "      <td>-225000.0</td>\n",
       "      <td>1700000.0</td>\n",
       "      <td>-200000.0</td>\n",
       "      <td>1725000.0</td>\n",
       "      <td>1</td>\n",
       "      <td>POLYGON ((-117.73892 15.27488, -117.74617 15.4...</td>\n",
       "      <td>1</td>\n",
       "    </tr>\n",
       "    <tr>\n",
       "      <th>2</th>\n",
       "      <td>-225000.0</td>\n",
       "      <td>1725000.0</td>\n",
       "      <td>-200000.0</td>\n",
       "      <td>1750000.0</td>\n",
       "      <td>2</td>\n",
       "      <td>POLYGON ((-117.74617 15.49934, -117.75355 15.7...</td>\n",
       "      <td>2</td>\n",
       "    </tr>\n",
       "    <tr>\n",
       "      <th>3</th>\n",
       "      <td>-225000.0</td>\n",
       "      <td>1750000.0</td>\n",
       "      <td>-200000.0</td>\n",
       "      <td>1775000.0</td>\n",
       "      <td>3</td>\n",
       "      <td>POLYGON ((-117.75355 15.72378, -117.76105 15.9...</td>\n",
       "      <td>3</td>\n",
       "    </tr>\n",
       "    <tr>\n",
       "      <th>4</th>\n",
       "      <td>-225000.0</td>\n",
       "      <td>1775000.0</td>\n",
       "      <td>-200000.0</td>\n",
       "      <td>1800000.0</td>\n",
       "      <td>4</td>\n",
       "      <td>POLYGON ((-117.76105 15.94821, -117.76866 16.1...</td>\n",
       "      <td>4</td>\n",
       "    </tr>\n",
       "  </tbody>\n",
       "</table>\n",
       "</div>"
      ],
      "text/plain": [
       "       left     bottom     right        top  shapeID  \\\n",
       "0 -225000.0  1675000.0 -200000.0  1700000.0        0   \n",
       "1 -225000.0  1700000.0 -200000.0  1725000.0        1   \n",
       "2 -225000.0  1725000.0 -200000.0  1750000.0        2   \n",
       "3 -225000.0  1750000.0 -200000.0  1775000.0        3   \n",
       "4 -225000.0  1775000.0 -200000.0  1800000.0        4   \n",
       "\n",
       "                                            geometry  TileID  \n",
       "0  POLYGON ((-117.73178 15.05043, -117.73892 15.2...       0  \n",
       "1  POLYGON ((-117.73892 15.27488, -117.74617 15.4...       1  \n",
       "2  POLYGON ((-117.74617 15.49934, -117.75355 15.7...       2  \n",
       "3  POLYGON ((-117.75355 15.72378, -117.76105 15.9...       3  \n",
       "4  POLYGON ((-117.76105 15.94821, -117.76866 16.1...       4  "
      ]
     },
     "execution_count": 36,
     "metadata": {},
     "output_type": "execute_result"
    }
   ],
   "source": [
    "shp.head()"
   ]
  },
  {
   "cell_type": "code",
   "execution_count": 40,
   "id": "341cac0d",
   "metadata": {},
   "outputs": [
    {
     "name": "stdout",
     "output_type": "stream",
     "text": [
      "(-105.7429515822471, 26.339208432619348, -105.48279135148223, 26.573380473170843)\n",
      "(-105.73270239279692, 26.563892548653612, -105.47193500758641, 26.798146233552632)\n",
      "(-105.72233210036056, 26.78856550744924, -105.46095084466614, 27.022901094781712)\n",
      "(-105.71183967733269, 27.013227212004438, -105.4498377707157, 27.247644964532896)\n",
      "(-105.70122407932044, 27.237877565075312, -105.43859467589812, 27.472377750289738)\n",
      "(-105.690484244865, 27.462516469165063, -105.42722043224856, 27.697099359334587)\n",
      "(-105.67961909515738, 27.687143826512898, -105.41571389337082, 27.921809698738368)\n",
      "(-105.66862753374751, 27.911759539082567, -105.4040738941272, 28.146508675350063)\n",
      "(-105.65750844624708, 28.136363508550687, -105.39229925032139, 28.371196195785853)\n",
      "(-105.64626070002556, 28.360955636294594, -105.38038875837421, 28.595872166418026)\n"
     ]
    },
    {
     "data": {
      "text/html": [
       "<div style=\"width:100%;\"><div style=\"position:relative;width:100%;height:0;padding-bottom:60%;\"><span style=\"color:#565656\">Make this Notebook Trusted to load map: File -> Trust Notebook</span><iframe src=\"about:blank\" style=\"position:absolute;width:100%;height:100%;left:0;top:0;border:none !important;\" data-html=%3C%21DOCTYPE%20html%3E%0A%3Chead%3E%20%20%20%20%0A%20%20%20%20%3Cmeta%20http-equiv%3D%22content-type%22%20content%3D%22text/html%3B%20charset%3DUTF-8%22%20/%3E%0A%20%20%20%20%0A%20%20%20%20%20%20%20%20%3Cscript%3E%0A%20%20%20%20%20%20%20%20%20%20%20%20L_NO_TOUCH%20%3D%20false%3B%0A%20%20%20%20%20%20%20%20%20%20%20%20L_DISABLE_3D%20%3D%20false%3B%0A%20%20%20%20%20%20%20%20%3C/script%3E%0A%20%20%20%20%0A%20%20%20%20%3Cstyle%3Ehtml%2C%20body%20%7Bwidth%3A%20100%25%3Bheight%3A%20100%25%3Bmargin%3A%200%3Bpadding%3A%200%3B%7D%3C/style%3E%0A%20%20%20%20%3Cstyle%3E%23map%20%7Bposition%3Aabsolute%3Btop%3A0%3Bbottom%3A0%3Bright%3A0%3Bleft%3A0%3B%7D%3C/style%3E%0A%20%20%20%20%3Cscript%20src%3D%22https%3A//cdn.jsdelivr.net/npm/leaflet%401.6.0/dist/leaflet.js%22%3E%3C/script%3E%0A%20%20%20%20%3Cscript%20src%3D%22https%3A//code.jquery.com/jquery-1.12.4.min.js%22%3E%3C/script%3E%0A%20%20%20%20%3Cscript%20src%3D%22https%3A//maxcdn.bootstrapcdn.com/bootstrap/3.2.0/js/bootstrap.min.js%22%3E%3C/script%3E%0A%20%20%20%20%3Cscript%20src%3D%22https%3A//cdnjs.cloudflare.com/ajax/libs/Leaflet.awesome-markers/2.0.2/leaflet.awesome-markers.js%22%3E%3C/script%3E%0A%20%20%20%20%3Clink%20rel%3D%22stylesheet%22%20href%3D%22https%3A//cdn.jsdelivr.net/npm/leaflet%401.6.0/dist/leaflet.css%22/%3E%0A%20%20%20%20%3Clink%20rel%3D%22stylesheet%22%20href%3D%22https%3A//maxcdn.bootstrapcdn.com/bootstrap/3.2.0/css/bootstrap.min.css%22/%3E%0A%20%20%20%20%3Clink%20rel%3D%22stylesheet%22%20href%3D%22https%3A//maxcdn.bootstrapcdn.com/bootstrap/3.2.0/css/bootstrap-theme.min.css%22/%3E%0A%20%20%20%20%3Clink%20rel%3D%22stylesheet%22%20href%3D%22https%3A//maxcdn.bootstrapcdn.com/font-awesome/4.6.3/css/font-awesome.min.css%22/%3E%0A%20%20%20%20%3Clink%20rel%3D%22stylesheet%22%20href%3D%22https%3A//cdnjs.cloudflare.com/ajax/libs/Leaflet.awesome-markers/2.0.2/leaflet.awesome-markers.css%22/%3E%0A%20%20%20%20%3Clink%20rel%3D%22stylesheet%22%20href%3D%22https%3A//cdn.jsdelivr.net/gh/python-visualization/folium/folium/templates/leaflet.awesome.rotate.min.css%22/%3E%0A%20%20%20%20%0A%20%20%20%20%20%20%20%20%20%20%20%20%3Cmeta%20name%3D%22viewport%22%20content%3D%22width%3Ddevice-width%2C%0A%20%20%20%20%20%20%20%20%20%20%20%20%20%20%20%20initial-scale%3D1.0%2C%20maximum-scale%3D1.0%2C%20user-scalable%3Dno%22%20/%3E%0A%20%20%20%20%20%20%20%20%20%20%20%20%3Cstyle%3E%0A%20%20%20%20%20%20%20%20%20%20%20%20%20%20%20%20%23map_ef0077cfae7944a68b69095500eba783%20%7B%0A%20%20%20%20%20%20%20%20%20%20%20%20%20%20%20%20%20%20%20%20position%3A%20relative%3B%0A%20%20%20%20%20%20%20%20%20%20%20%20%20%20%20%20%20%20%20%20width%3A%20100.0%25%3B%0A%20%20%20%20%20%20%20%20%20%20%20%20%20%20%20%20%20%20%20%20height%3A%20100.0%25%3B%0A%20%20%20%20%20%20%20%20%20%20%20%20%20%20%20%20%20%20%20%20left%3A%200.0%25%3B%0A%20%20%20%20%20%20%20%20%20%20%20%20%20%20%20%20%20%20%20%20top%3A%200.0%25%3B%0A%20%20%20%20%20%20%20%20%20%20%20%20%20%20%20%20%7D%0A%20%20%20%20%20%20%20%20%20%20%20%20%3C/style%3E%0A%20%20%20%20%20%20%20%20%0A%3C/head%3E%0A%3Cbody%3E%20%20%20%20%0A%20%20%20%20%0A%20%20%20%20%20%20%20%20%20%20%20%20%3Cdiv%20class%3D%22folium-map%22%20id%3D%22map_ef0077cfae7944a68b69095500eba783%22%20%3E%3C/div%3E%0A%20%20%20%20%20%20%20%20%0A%3C/body%3E%0A%3Cscript%3E%20%20%20%20%0A%20%20%20%20%0A%20%20%20%20%20%20%20%20%20%20%20%20var%20map_ef0077cfae7944a68b69095500eba783%20%3D%20L.map%28%0A%20%20%20%20%20%20%20%20%20%20%20%20%20%20%20%20%22map_ef0077cfae7944a68b69095500eba783%22%2C%0A%20%20%20%20%20%20%20%20%20%20%20%20%20%20%20%20%7B%0A%20%20%20%20%20%20%20%20%20%20%20%20%20%20%20%20%20%20%20%20center%3A%20%5B29.19828501171627%2C%20-118.3712214497313%5D%2C%0A%20%20%20%20%20%20%20%20%20%20%20%20%20%20%20%20%20%20%20%20crs%3A%20L.CRS.EPSG3857%2C%0A%20%20%20%20%20%20%20%20%20%20%20%20%20%20%20%20%20%20%20%20zoom%3A%206%2C%0A%20%20%20%20%20%20%20%20%20%20%20%20%20%20%20%20%20%20%20%20zoomControl%3A%20true%2C%0A%20%20%20%20%20%20%20%20%20%20%20%20%20%20%20%20%20%20%20%20preferCanvas%3A%20false%2C%0A%20%20%20%20%20%20%20%20%20%20%20%20%20%20%20%20%7D%0A%20%20%20%20%20%20%20%20%20%20%20%20%29%3B%0A%0A%20%20%20%20%20%20%20%20%20%20%20%20%0A%0A%20%20%20%20%20%20%20%20%0A%20%20%20%20%0A%20%20%20%20%20%20%20%20%20%20%20%20var%20tile_layer_0fb4cb18cc5b4bef9a50b14ae7934019%20%3D%20L.tileLayer%28%0A%20%20%20%20%20%20%20%20%20%20%20%20%20%20%20%20%22https%3A//%7Bs%7D.tile.openstreetmap.org/%7Bz%7D/%7Bx%7D/%7By%7D.png%22%2C%0A%20%20%20%20%20%20%20%20%20%20%20%20%20%20%20%20%7B%22attribution%22%3A%20%22Data%20by%20%5Cu0026copy%3B%20%5Cu003ca%20href%3D%5C%22http%3A//openstreetmap.org%5C%22%5Cu003eOpenStreetMap%5Cu003c/a%5Cu003e%2C%20under%20%5Cu003ca%20href%3D%5C%22http%3A//www.openstreetmap.org/copyright%5C%22%5Cu003eODbL%5Cu003c/a%5Cu003e.%22%2C%20%22detectRetina%22%3A%20false%2C%20%22maxNativeZoom%22%3A%2018%2C%20%22maxZoom%22%3A%2018%2C%20%22minZoom%22%3A%200%2C%20%22noWrap%22%3A%20false%2C%20%22opacity%22%3A%201%2C%20%22subdomains%22%3A%20%22abc%22%2C%20%22tms%22%3A%20false%7D%0A%20%20%20%20%20%20%20%20%20%20%20%20%29.addTo%28map_ef0077cfae7944a68b69095500eba783%29%3B%0A%20%20%20%20%20%20%20%20%0A%20%20%20%20%0A%20%20%20%20%20%20%20%20%20%20%20%20var%20tile_layer_8f2e5f8392154be581913c08cdd93229%20%3D%20L.tileLayer%28%0A%20%20%20%20%20%20%20%20%20%20%20%20%20%20%20%20%22https%3A//earthengine.googleapis.com/v1alpha/projects/earthengine-legacy/maps/78a146407b316f6236fe0289e84b81d0-24eaeb60c81bee82a2be8e0c16889b15/tiles/%7Bz%7D/%7Bx%7D/%7By%7D%22%2C%0A%20%20%20%20%20%20%20%20%20%20%20%20%20%20%20%20%7B%22attribution%22%3A%20%22Google%20Earth%20Engine%22%2C%20%22detectRetina%22%3A%20false%2C%20%22maxNativeZoom%22%3A%2018%2C%20%22maxZoom%22%3A%2018%2C%20%22minZoom%22%3A%200%2C%20%22noWrap%22%3A%20false%2C%20%22opacity%22%3A%201%2C%20%22subdomains%22%3A%20%22abc%22%2C%20%22tms%22%3A%20false%7D%0A%20%20%20%20%20%20%20%20%20%20%20%20%29.addTo%28map_ef0077cfae7944a68b69095500eba783%29%3B%0A%20%20%20%20%20%20%20%20%0A%20%20%20%20%0A%20%20%20%20%20%20%20%20%20%20%20%20var%20tile_layer_1d697effe8524762a9e692ffd533113f%20%3D%20L.tileLayer%28%0A%20%20%20%20%20%20%20%20%20%20%20%20%20%20%20%20%22https%3A//earthengine.googleapis.com/v1alpha/projects/earthengine-legacy/maps/8730ae24f04f5f2a127dd36f5b7f6e97-b27f58ac26c8477b47945d1b950968b5/tiles/%7Bz%7D/%7Bx%7D/%7By%7D%22%2C%0A%20%20%20%20%20%20%20%20%20%20%20%20%20%20%20%20%7B%22attribution%22%3A%20%22Google%20Earth%20Engine%22%2C%20%22detectRetina%22%3A%20false%2C%20%22maxNativeZoom%22%3A%2018%2C%20%22maxZoom%22%3A%2018%2C%20%22minZoom%22%3A%200%2C%20%22noWrap%22%3A%20false%2C%20%22opacity%22%3A%201%2C%20%22subdomains%22%3A%20%22abc%22%2C%20%22tms%22%3A%20false%7D%0A%20%20%20%20%20%20%20%20%20%20%20%20%29.addTo%28map_ef0077cfae7944a68b69095500eba783%29%3B%0A%20%20%20%20%20%20%20%20%0A%20%20%20%20%0A%20%20%20%20%20%20%20%20%20%20%20%20var%20tile_layer_904c9fe7dd3742cd966230368b2200dd%20%3D%20L.tileLayer%28%0A%20%20%20%20%20%20%20%20%20%20%20%20%20%20%20%20%22https%3A//earthengine.googleapis.com/v1alpha/projects/earthengine-legacy/maps/a7e96fdd2b175112aece92497f626650-e2cfd425928958f541df9e2431322c9a/tiles/%7Bz%7D/%7Bx%7D/%7By%7D%22%2C%0A%20%20%20%20%20%20%20%20%20%20%20%20%20%20%20%20%7B%22attribution%22%3A%20%22Google%20Earth%20Engine%22%2C%20%22detectRetina%22%3A%20false%2C%20%22maxNativeZoom%22%3A%2018%2C%20%22maxZoom%22%3A%2018%2C%20%22minZoom%22%3A%200%2C%20%22noWrap%22%3A%20false%2C%20%22opacity%22%3A%201%2C%20%22subdomains%22%3A%20%22abc%22%2C%20%22tms%22%3A%20false%7D%0A%20%20%20%20%20%20%20%20%20%20%20%20%29.addTo%28map_ef0077cfae7944a68b69095500eba783%29%3B%0A%20%20%20%20%20%20%20%20%0A%20%20%20%20%0A%20%20%20%20%20%20%20%20%20%20%20%20var%20tile_layer_31c28bb2b8df4504adb163e380759634%20%3D%20L.tileLayer%28%0A%20%20%20%20%20%20%20%20%20%20%20%20%20%20%20%20%22https%3A//earthengine.googleapis.com/v1alpha/projects/earthengine-legacy/maps/155b7af31de42561f18a3c0416a80562-60edbec881fad4e6fe330ae1ad321193/tiles/%7Bz%7D/%7Bx%7D/%7By%7D%22%2C%0A%20%20%20%20%20%20%20%20%20%20%20%20%20%20%20%20%7B%22attribution%22%3A%20%22Google%20Earth%20Engine%22%2C%20%22detectRetina%22%3A%20false%2C%20%22maxNativeZoom%22%3A%2018%2C%20%22maxZoom%22%3A%2018%2C%20%22minZoom%22%3A%200%2C%20%22noWrap%22%3A%20false%2C%20%22opacity%22%3A%201%2C%20%22subdomains%22%3A%20%22abc%22%2C%20%22tms%22%3A%20false%7D%0A%20%20%20%20%20%20%20%20%20%20%20%20%29.addTo%28map_ef0077cfae7944a68b69095500eba783%29%3B%0A%20%20%20%20%20%20%20%20%0A%20%20%20%20%0A%20%20%20%20%20%20%20%20%20%20%20%20var%20tile_layer_86a795bf0463482db390fa40262deff2%20%3D%20L.tileLayer%28%0A%20%20%20%20%20%20%20%20%20%20%20%20%20%20%20%20%22https%3A//earthengine.googleapis.com/v1alpha/projects/earthengine-legacy/maps/9e0c08ca93e4694d03ed1892deef6327-b78ad591e9ce727d5d5c94db13eeab09/tiles/%7Bz%7D/%7Bx%7D/%7By%7D%22%2C%0A%20%20%20%20%20%20%20%20%20%20%20%20%20%20%20%20%7B%22attribution%22%3A%20%22Google%20Earth%20Engine%22%2C%20%22detectRetina%22%3A%20false%2C%20%22maxNativeZoom%22%3A%2018%2C%20%22maxZoom%22%3A%2018%2C%20%22minZoom%22%3A%200%2C%20%22noWrap%22%3A%20false%2C%20%22opacity%22%3A%201%2C%20%22subdomains%22%3A%20%22abc%22%2C%20%22tms%22%3A%20false%7D%0A%20%20%20%20%20%20%20%20%20%20%20%20%29.addTo%28map_ef0077cfae7944a68b69095500eba783%29%3B%0A%20%20%20%20%20%20%20%20%0A%20%20%20%20%0A%20%20%20%20%20%20%20%20%20%20%20%20var%20tile_layer_e1a6dde344ad45acbfc543e62d236764%20%3D%20L.tileLayer%28%0A%20%20%20%20%20%20%20%20%20%20%20%20%20%20%20%20%22https%3A//earthengine.googleapis.com/v1alpha/projects/earthengine-legacy/maps/d5d29214babbf5e2c40478f8990a08ca-e8686b5347f95990668f7e22d7964de5/tiles/%7Bz%7D/%7Bx%7D/%7By%7D%22%2C%0A%20%20%20%20%20%20%20%20%20%20%20%20%20%20%20%20%7B%22attribution%22%3A%20%22Google%20Earth%20Engine%22%2C%20%22detectRetina%22%3A%20false%2C%20%22maxNativeZoom%22%3A%2018%2C%20%22maxZoom%22%3A%2018%2C%20%22minZoom%22%3A%200%2C%20%22noWrap%22%3A%20false%2C%20%22opacity%22%3A%201%2C%20%22subdomains%22%3A%20%22abc%22%2C%20%22tms%22%3A%20false%7D%0A%20%20%20%20%20%20%20%20%20%20%20%20%29.addTo%28map_ef0077cfae7944a68b69095500eba783%29%3B%0A%20%20%20%20%20%20%20%20%0A%20%20%20%20%0A%20%20%20%20%20%20%20%20%20%20%20%20var%20tile_layer_55aa2b61ee49404eaa09e4ab9299c85d%20%3D%20L.tileLayer%28%0A%20%20%20%20%20%20%20%20%20%20%20%20%20%20%20%20%22https%3A//earthengine.googleapis.com/v1alpha/projects/earthengine-legacy/maps/aff380067930118f740a39cc99c65e05-3850a69c74cdbc391742a3672598d2f0/tiles/%7Bz%7D/%7Bx%7D/%7By%7D%22%2C%0A%20%20%20%20%20%20%20%20%20%20%20%20%20%20%20%20%7B%22attribution%22%3A%20%22Google%20Earth%20Engine%22%2C%20%22detectRetina%22%3A%20false%2C%20%22maxNativeZoom%22%3A%2018%2C%20%22maxZoom%22%3A%2018%2C%20%22minZoom%22%3A%200%2C%20%22noWrap%22%3A%20false%2C%20%22opacity%22%3A%201%2C%20%22subdomains%22%3A%20%22abc%22%2C%20%22tms%22%3A%20false%7D%0A%20%20%20%20%20%20%20%20%20%20%20%20%29.addTo%28map_ef0077cfae7944a68b69095500eba783%29%3B%0A%20%20%20%20%20%20%20%20%0A%20%20%20%20%0A%20%20%20%20%20%20%20%20%20%20%20%20var%20tile_layer_ef44666ab2074f9a851545e8fa165af6%20%3D%20L.tileLayer%28%0A%20%20%20%20%20%20%20%20%20%20%20%20%20%20%20%20%22https%3A//earthengine.googleapis.com/v1alpha/projects/earthengine-legacy/maps/9fa35c167f06eee080cca91bb1272bd4-8d4186470dbaea14c8afa7377977ef3d/tiles/%7Bz%7D/%7Bx%7D/%7By%7D%22%2C%0A%20%20%20%20%20%20%20%20%20%20%20%20%20%20%20%20%7B%22attribution%22%3A%20%22Google%20Earth%20Engine%22%2C%20%22detectRetina%22%3A%20false%2C%20%22maxNativeZoom%22%3A%2018%2C%20%22maxZoom%22%3A%2018%2C%20%22minZoom%22%3A%200%2C%20%22noWrap%22%3A%20false%2C%20%22opacity%22%3A%201%2C%20%22subdomains%22%3A%20%22abc%22%2C%20%22tms%22%3A%20false%7D%0A%20%20%20%20%20%20%20%20%20%20%20%20%29.addTo%28map_ef0077cfae7944a68b69095500eba783%29%3B%0A%20%20%20%20%20%20%20%20%0A%20%20%20%20%0A%20%20%20%20%20%20%20%20%20%20%20%20var%20tile_layer_cb778b5198b44537943d204a6868a29e%20%3D%20L.tileLayer%28%0A%20%20%20%20%20%20%20%20%20%20%20%20%20%20%20%20%22https%3A//earthengine.googleapis.com/v1alpha/projects/earthengine-legacy/maps/4cf1a133215badf23a09f1d757458786-add858a6134bdafc33e5d599d345807d/tiles/%7Bz%7D/%7Bx%7D/%7By%7D%22%2C%0A%20%20%20%20%20%20%20%20%20%20%20%20%20%20%20%20%7B%22attribution%22%3A%20%22Google%20Earth%20Engine%22%2C%20%22detectRetina%22%3A%20false%2C%20%22maxNativeZoom%22%3A%2018%2C%20%22maxZoom%22%3A%2018%2C%20%22minZoom%22%3A%200%2C%20%22noWrap%22%3A%20false%2C%20%22opacity%22%3A%201%2C%20%22subdomains%22%3A%20%22abc%22%2C%20%22tms%22%3A%20false%7D%0A%20%20%20%20%20%20%20%20%20%20%20%20%29.addTo%28map_ef0077cfae7944a68b69095500eba783%29%3B%0A%20%20%20%20%20%20%20%20%0A%20%20%20%20%0A%20%20%20%20%20%20%20%20%20%20%20%20var%20tile_layer_4d1ff61097bd490980aae27e6f2d57a2%20%3D%20L.tileLayer%28%0A%20%20%20%20%20%20%20%20%20%20%20%20%20%20%20%20%22https%3A//earthengine.googleapis.com/v1alpha/projects/earthengine-legacy/maps/d758980b1898bae478ed7cd075a2075f-370df62113940325688b684bbb170988/tiles/%7Bz%7D/%7Bx%7D/%7By%7D%22%2C%0A%20%20%20%20%20%20%20%20%20%20%20%20%20%20%20%20%7B%22attribution%22%3A%20%22Google%20Earth%20Engine%22%2C%20%22detectRetina%22%3A%20false%2C%20%22maxNativeZoom%22%3A%2018%2C%20%22maxZoom%22%3A%2018%2C%20%22minZoom%22%3A%200%2C%20%22noWrap%22%3A%20false%2C%20%22opacity%22%3A%201%2C%20%22subdomains%22%3A%20%22abc%22%2C%20%22tms%22%3A%20false%7D%0A%20%20%20%20%20%20%20%20%20%20%20%20%29.addTo%28map_ef0077cfae7944a68b69095500eba783%29%3B%0A%20%20%20%20%20%20%20%20%0A%3C/script%3E onload=\"this.contentDocument.open();this.contentDocument.write(    decodeURIComponent(this.getAttribute('data-html')));this.contentDocument.close();\" allowfullscreen webkitallowfullscreen mozallowfullscreen></iframe></div></div>"
      ],
      "text/plain": [
       "<folium.folium.Map at 0x7f43f8559950>"
      ]
     },
     "execution_count": 40,
     "metadata": {},
     "output_type": "execute_result"
    }
   ],
   "source": [
    "map_sharpened = folium.Map(location=[29.19828501171627, -118.3712214497313], zoom_start = 6)\n",
    "\n",
    "for col, row in shp[4000:4010].iterrows():\n",
    "\n",
    "    cur_shp = row.geometry\n",
    "    print(cur_shp.bounds)\n",
    "    cur_shp = ConvertToFeature(cur_shp)\n",
    "    \n",
    "#     print(cur_shp)\n",
    "    geometry = ee.Geometry.Rectangle(list(row.geometry.bounds))   \n",
    "    \n",
    "    \n",
    "    \n",
    "    os.mkdir(os.path.join(\"test_imagery\", str(row.TileID)))\n",
    "    \n",
    "    # GET THE DOWNLOAD URL FOR THIS ONE - IT'S YOUR ORIGINAL IMAGE, CLOUDS & EVERYTHING\n",
    "    raw_image = ee.ImageCollection(ic).filterDate(dates[0], dates[1]).filterBounds(cur_shp).first()  \n",
    "    raw_image = raw_image.clip(cur_shp)\n",
    "    \n",
    "    raw_image_zip_name = os.path.join(\"test_imagery\", str(row.TileID), str(row.TileID) + \"_RI.zip\")\n",
    "    raw_image_link = raw_image.select(['B4', 'B3', 'B2']).getDownloadURL({'name': str(row.TileID), 'crs': 'EPSG:4326', 'fileFormat': 'GeoTIFF', 'region': geometry, 'scale': 30})    \n",
    "\n",
    "#     r = requests.get(raw_image_link, allow_redirects = True)\n",
    "#     open(raw_image_zip_name, 'wb').write(r.content)        \n",
    "    \n",
    "    \n",
    "#     # GET THE DOWNLOAD URL FOR THIS ONE - IT'S YOUR MASK LAYER (POST-PROCESSING BINARIZES IT)\n",
    "#     cloud_mask = ee.Algorithms.Landsat.simpleCloudScore(raw_image)\n",
    "#     cloud_mask = cloud_mask.select(['cloud']).lte(0);\n",
    "#     cloud_mask = raw_image.updateMask(cloud_mask);\n",
    "    \n",
    "#     cloud_mask_zip_name = os.path.join(\"test_imagery\", str(row.TileID), str(row.TileID) + \"_CM.zip\")\n",
    "#     cloud_mask_link = cloud_mask.select(['B2']).getDownloadURL({'name': str(row.TileID), 'crs': 'EPSG:4326', 'fileFormat': 'GeoTIFF', 'region': geometry, 'scale': 30})    \n",
    "    \n",
    "#     r = requests.get(cloud_mask_link, allow_redirects = True)\n",
    "#     open(cloud_mask_zip_name, 'wb').write(r.content)       \n",
    "    \n",
    "    \n",
    "#     # GET THE DOWNLOAD URL FOR THIS ONE - IT WILL BE YOUR CLOUD FREE IMAGE TO USE AS 'TRUTH'\n",
    "#     no_clouds = ee.ImageCollection(\"LANDSAT/LC08/C01/T1\").filterDate('2013-01-01', '2020-08-31').filterBounds(cur_shp)\n",
    "#     no_clouds = ee.Algorithms.Landsat.simpleComposite(no_clouds)\n",
    "#     no_clouds = no_clouds.clip(cur_shp)\n",
    "    \n",
    "#     no_clouds_zip_name = os.path.join(\"test_imagery\", str(row.TileID), str(row.TileID) + \"_NC.zip\")\n",
    "#     no_clouds_link = no_clouds.select(['B4', 'B3', 'B2']).getDownloadURL({'name': str(row.TileID), 'crs': 'EPSG:4326', 'fileFormat': 'GeoTIFF', 'region': geometry, 'scale': 30})    \n",
    "    \n",
    "#     r = requests.get(no_clouds_link, allow_redirects = True)\n",
    "#     open(no_clouds_zip_name, 'wb').write(r.content)     \n",
    "    \n",
    "    map_sharpened.add_ee_layer(raw_image, {\n",
    "        'bands': ['B4', 'B3', 'B2']}, 'rgb')\n",
    "    \n",
    "map_sharpened"
   ]
  },
  {
   "cell_type": "code",
   "execution_count": 41,
   "id": "829f38ad",
   "metadata": {},
   "outputs": [
    {
     "data": {
      "text/plain": [
       "id                                                        52.0\n",
       "GEOLEVEL2                                            484002001\n",
       "boxID                                                        0\n",
       "geometry     POLYGON ((-118.3712214497313 29.19828501171627...\n",
       "Name: 0, dtype: object"
      ]
     },
     "execution_count": 41,
     "metadata": {},
     "output_type": "execute_result"
    }
   ],
   "source": [
    "shp.loc[0]"
   ]
  },
  {
   "cell_type": "code",
   "execution_count": null,
   "id": "e3c06294",
   "metadata": {},
   "outputs": [],
   "source": [
    "# CM = Cloud Mask (Cloudy pixels represented as Null)\n",
    "# RI = Raw Image (Image taken on specified date with clouds)\n",
    "# NC = No Clouds (GEE Cloud Free Composite image)"
   ]
  }
 ],
 "metadata": {
  "kernelspec": {
   "display_name": "Python 3",
   "language": "python",
   "name": "python3"
  },
  "language_info": {
   "codemirror_mode": {
    "name": "ipython",
    "version": 3
   },
   "file_extension": ".py",
   "mimetype": "text/x-python",
   "name": "python",
   "nbconvert_exporter": "python",
   "pygments_lexer": "ipython3",
   "version": "3.7.10"
  }
 },
 "nbformat": 4,
 "nbformat_minor": 5
}
