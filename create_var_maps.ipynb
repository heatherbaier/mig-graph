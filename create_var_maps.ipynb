{
 "cells": [
  {
   "cell_type": "code",
   "execution_count": 51,
   "id": "8a7e8b17",
   "metadata": {},
   "outputs": [],
   "source": [
    "import pandas as pd\n",
    "import json"
   ]
  },
  {
   "cell_type": "code",
   "execution_count": 61,
   "id": "1ff2a51e",
   "metadata": {},
   "outputs": [
    {
     "data": {
      "text/html": [
       "<div>\n",
       "<style scoped>\n",
       "    .dataframe tbody tr th:only-of-type {\n",
       "        vertical-align: middle;\n",
       "    }\n",
       "\n",
       "    .dataframe tbody tr th {\n",
       "        vertical-align: top;\n",
       "    }\n",
       "\n",
       "    .dataframe thead th {\n",
       "        text-align: right;\n",
       "    }\n",
       "</style>\n",
       "<table border=\"1\" class=\"dataframe\">\n",
       "  <thead>\n",
       "    <tr style=\"text-align: right;\">\n",
       "      <th></th>\n",
       "      <th>var</th>\n",
       "    </tr>\n",
       "  </thead>\n",
       "  <tbody>\n",
       "    <tr>\n",
       "      <th>2599</th>\n",
       "      <td>42</td>\n",
       "    </tr>\n",
       "    <tr>\n",
       "      <th>2600</th>\n",
       "      <td>43</td>\n",
       "    </tr>\n",
       "    <tr>\n",
       "      <th>2601</th>\n",
       "      <td>44</td>\n",
       "    </tr>\n",
       "    <tr>\n",
       "      <th>2602</th>\n",
       "      <td>45</td>\n",
       "    </tr>\n",
       "    <tr>\n",
       "      <th>2603</th>\n",
       "      <td>46</td>\n",
       "    </tr>\n",
       "  </tbody>\n",
       "</table>\n",
       "</div>"
      ],
      "text/plain": [
       "     var\n",
       "2599  42\n",
       "2600  43\n",
       "2601  44\n",
       "2602  45\n",
       "2603  46"
      ]
     },
     "execution_count": 61,
     "metadata": {},
     "output_type": "execute_result"
    }
   ],
   "source": [
    "df = pd.read_csv(\"./tabula-Appendix B - Places (MMP174)(1).csv\")\n",
    "df = df.fillna(\"-99\")\n",
    "df['var'] = df[\"id\"] + \" \" + df[\"name\"]\n",
    "df = df[df[\"var\"] != \"-99 -99\"]\n",
    "df['var'] = df.replace(\"-99\", \"\")\n",
    "df = df[['var']]\n",
    "df.tail()"
   ]
  },
  {
   "cell_type": "code",
   "execution_count": 62,
   "id": "e7ef4054",
   "metadata": {},
   "outputs": [],
   "source": [
    "state_keys = []\n",
    "state_vals = []\n",
    "\n",
    "place_to_state_keys = []\n",
    "place_to_state_vals = []\n",
    "\n",
    "place_keys = []\n",
    "place_vals = []\n",
    "\n",
    "\n",
    "state_to_place_keys = []\n",
    "state_to_place_vals = []\n",
    "\n",
    "\n",
    "cur_state = ''\n",
    "cur_state_name = ''\n",
    "for col, row in df.iterrows():\n",
    "    if row['var'][0].isdigit():                # This means the row is a place\n",
    "        place_to_state_vals.append(int(cur_state))\n",
    "\n",
    "\n",
    "        if row['var'].split(\" \")[0] == \"2Acuña\":\n",
    "            place_to_state_keys.append(2)\n",
    "        else:\n",
    "            place_to_state_keys.append(int(row['var'].split(\" \")[0]))\n",
    "            \n",
    "            \n",
    "        if row['var'].split(\" \")[0] == \"2Acuña\":\n",
    "            place_vals.append(2)\n",
    "            place_keys.append(\"Acuña\")\n",
    "        else:\n",
    "            place_vals.append(int(row['var'].split(\" \")[0]))\n",
    "            place_keys.append(\" \".join(row['var'].split(\" \")[1:]))\n",
    "            \n",
    "        \n",
    "        state_name = cur_state_name.split(\"(\")[0].strip()\n",
    "        place_name = \" \".join(row['var'].split(\" \")[1:])\n",
    "#         state_num = \n",
    "        \n",
    "        stp_name = place_name + \", \" + state_name\n",
    "        stp_num = str(cur_state) + \"-\" + row['var'].split(\" \")[0].replace(\"2Acuña\", \"2\")\n",
    "#         print(stp_num)\n",
    "        \n",
    "            \n",
    "        state_to_place_keys.append(stp_num)\n",
    "        state_to_place_vals.append(stp_name)\n",
    "        \n",
    "        \n",
    "\n",
    "    else:                                      # This means the row is a state\n",
    "        cur_state_name = row['var']\n",
    "        state_keys.append(int(cur_state_name.split(\" \")[-1].strip(\"(\").strip(\")\")))\n",
    "        state_vals.append(cur_state_name.split(\"(\")[0].strip())\n",
    "        cur_state = int(cur_state_name.split(\" \")[-1].strip(\"(\").strip(\")\"))\n",
    "        \n",
    "        state_to_place_keys.append(str(cur_state) + \"-\" + \"0\")\n",
    "        state_to_place_vals.append(cur_state_name.split(\"(\")[0].strip())\n",
    "        \n",
    "        \n",
    "        state_to_place_keys.append(str(cur_state) + \"-\" + \"9999\")\n",
    "        state_to_place_vals.append(cur_state_name.split(\"(\")[0].strip())"
   ]
  },
  {
   "cell_type": "code",
   "execution_count": 63,
   "id": "f0899627",
   "metadata": {},
   "outputs": [],
   "source": [
    "state_to_place_map = dict(zip(state_to_place_keys, state_to_place_vals))\n",
    "\n",
    "with open(\"./var_maps/state_to_place_map.json\", \"w\") as f:\n",
    "    f.write(json.dumps(state_to_place_map))"
   ]
  },
  {
   "cell_type": "code",
   "execution_count": 64,
   "id": "f90c11d9",
   "metadata": {},
   "outputs": [],
   "source": [
    "state_map = dict(zip(state_keys, state_vals))\n",
    "\n",
    "with open(\"./var_maps/state_map.json\", \"w\") as f:\n",
    "    f.write(json.dumps(state_map))"
   ]
  },
  {
   "cell_type": "code",
   "execution_count": 65,
   "id": "cf8a5736",
   "metadata": {},
   "outputs": [],
   "source": [
    "place_to_state_map = dict(zip(place_to_state_keys, place_to_state_vals))\n",
    "\n",
    "with open(\"./var_maps/place_to_state_map.json\", \"w\") as f:\n",
    "    f.write(json.dumps(place_to_state_map))"
   ]
  },
  {
   "cell_type": "code",
   "execution_count": 66,
   "id": "79943e37",
   "metadata": {},
   "outputs": [],
   "source": [
    "place_map = dict(zip(place_keys, place_vals))\n",
    "\n",
    "with open(\"./var_maps/place_map.json\", \"w\") as f:\n",
    "    f.write(json.dumps(place_map))"
   ]
  },
  {
   "cell_type": "code",
   "execution_count": 70,
   "id": "44a4fbb8",
   "metadata": {},
   "outputs": [],
   "source": [
    "us = pd.read_csv(\"./us_states.csv\")\n",
    "\n",
    "with open(\"./var_maps/us_places.json\", \"w\") as f:\n",
    "    f.write(json.dumps(dict(zip(us['id'], us['place']))))"
   ]
  },
  {
   "cell_type": "code",
   "execution_count": null,
   "id": "97c7fb8d",
   "metadata": {},
   "outputs": [],
   "source": []
  }
 ],
 "metadata": {
  "kernelspec": {
   "display_name": "Python 3",
   "language": "python",
   "name": "python3"
  },
  "language_info": {
   "codemirror_mode": {
    "name": "ipython",
    "version": 3
   },
   "file_extension": ".py",
   "mimetype": "text/x-python",
   "name": "python",
   "nbconvert_exporter": "python",
   "pygments_lexer": "ipython3",
   "version": "3.7.10"
  }
 },
 "nbformat": 4,
 "nbformat_minor": 5
}
